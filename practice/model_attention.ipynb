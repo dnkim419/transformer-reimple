{
  "cells": [
    {
      "cell_type": "code",
      "execution_count": null,
      "metadata": {
        "colab": {
          "base_uri": "https://localhost:8080/"
        },
        "id": "cGyXRPF1TtMf",
        "outputId": "0da333e8-61e1-4e02-b2d8-d3f782491d10"
      },
      "outputs": [
        {
          "output_type": "stream",
          "name": "stdout",
          "text": [
            "Mounted at /content/drive\n",
            "/content/drive/MyDrive/backup\n"
          ]
        }
      ],
      "source": [
        " # This mounts your Google Drive to the Colab VM.\n",
        "from google.colab import drive\n",
        "drive.mount('/content/drive')\n",
        "\n",
        "FOLDERNAME = 'backup'\n",
        "assert FOLDERNAME is not None, \"[!] Enter the foldername.\"\n",
        "\n",
        "import sys\n",
        "sys.path.append('/content/drive/MyDrive/{}'.format(FOLDERNAME))\n",
        "\n",
        "# Change dariectory to current folder\n",
        "%cd /content/drive/MyDrive/$FOLDERNAME"
      ]
    },
    {
      "cell_type": "code",
      "execution_count": null,
      "metadata": {
        "id": "JuieQwL-dOnl"
      },
      "outputs": [],
      "source": [
        "import numpy as np\n",
        "\n",
        "import torch\n",
        "import torch.nn as nn\n",
        "import torch.nn.functional as F"
      ]
    },
    {
      "cell_type": "code",
      "source": [
        "! pip install sentencepiece"
      ],
      "metadata": {
        "colab": {
          "base_uri": "https://localhost:8080/"
        },
        "id": "eP7fFn3mOrAY",
        "outputId": "0d673392-caf4-472c-e088-4298860355a7"
      },
      "execution_count": null,
      "outputs": [
        {
          "output_type": "stream",
          "name": "stdout",
          "text": [
            "Collecting sentencepiece\n",
            "  Downloading sentencepiece-0.1.99-cp310-cp310-manylinux_2_17_x86_64.manylinux2014_x86_64.whl (1.3 MB)\n",
            "\u001b[2K     \u001b[90m━━━━━━━━━━━━━━━━━━━━━━━━━━━━━━━━━━━━━━━━\u001b[0m \u001b[32m1.3/1.3 MB\u001b[0m \u001b[31m11.9 MB/s\u001b[0m eta \u001b[36m0:00:00\u001b[0m\n",
            "\u001b[?25hInstalling collected packages: sentencepiece\n",
            "Successfully installed sentencepiece-0.1.99\n"
          ]
        }
      ]
    },
    {
      "cell_type": "code",
      "source": [
        "import sentencepiece as spm\n",
        "\n",
        "de_vocab_file = 'de.model'\n",
        "en_vocab_file = 'en.model'\n",
        "\n",
        "de_vocab = spm.SentencePieceProcessor()\n",
        "en_vocab = spm.SentencePieceProcessor()\n",
        "\n",
        "# de, en vocab 로드\n",
        "de_vocab.load(de_vocab_file)\n",
        "en_vocab.load(en_vocab_file)"
      ],
      "metadata": {
        "colab": {
          "base_uri": "https://localhost:8080/"
        },
        "id": "pdhBA0v8Phid",
        "outputId": "e42f82d1-8e83-4b5d-f51c-481625e90b87"
      },
      "execution_count": null,
      "outputs": [
        {
          "output_type": "execute_result",
          "data": {
            "text/plain": [
              "True"
            ]
          },
          "metadata": {},
          "execution_count": 4
        }
      ]
    },
    {
      "cell_type": "code",
      "source": [
        "import pandas as pd\n",
        "\n",
        "train_df = pd.read_csv('train.csv')"
      ],
      "metadata": {
        "id": "fwpHN7XZPnmT"
      },
      "execution_count": null,
      "outputs": []
    },
    {
      "cell_type": "code",
      "execution_count": null,
      "metadata": {
        "id": "Ym4mYsygN1OR"
      },
      "outputs": [],
      "source": [
        "# data.py\n",
        "\n",
        "from torch.utils.data import Dataset, DataLoader\n",
        "from torch.utils.data.distributed import DistributedSampler\n",
        "\n",
        "# mt Dataset\n",
        "class MtDataset(Dataset):\n",
        "  def __init__(self, src_vocab, trg_vocab, df, src_name, trg_name):\n",
        "    self.src_vocab  = src_vocab\n",
        "    self.trg_vocab = trg_vocab\n",
        "    self.src_train = []\n",
        "    self.trg_train = []\n",
        "\n",
        "    for idx, row in df.iterrows():\n",
        "      src_line = row[src_name]\n",
        "      trg_line = row[trg_name]\n",
        "      if type(src_line) != str or type(trg_line) != str:\n",
        "        continue\n",
        "      # src 문장, trg 문장 각각 tokenize\n",
        "      self.src_train.append(src_vocab.encode_as_ids(src_line))\n",
        "      self.trg_train.append(trg_vocab.encode_as_ids(trg_line))\n",
        "\n",
        "  def __len__(self):\n",
        "    assert len(self.src_train) == len(self.trg_train)\n",
        "    return len(self.src_train)\n",
        "\n",
        "  def __getitem__(self, idx):\n",
        "    return (torch.tensor(self.src_train[idx]), torch.tensor(self.trg_train[idx]))\n",
        "\n",
        "\n",
        "# mt data collate_fn\n",
        "# 배치 단위로 데이터 처리\n",
        "def mt_collate_fn(inputs):\n",
        "  enc_inputs, dec_inputs = list(zip(*inputs)) # to do\n",
        "\n",
        "  # 입력 길이가 다르므로 입력 최대 길이에 맟춰 padding(0) 추가\n",
        "  enc_inputs = torch.nn.utils.rnn.pad_sequence(enc_inputs, batch_first=True)\n",
        "  dec_inputs = torch.nn.utils.rnn.pad_sequence(dec_inputs, batch_first=True)\n",
        "\n",
        "  batch = [\n",
        "      enc_inputs,\n",
        "      dec_inputs\n",
        "  ]\n",
        "\n",
        "  return batch # DataLoader iterate 할 때 return됨\n",
        "\n",
        "\n",
        "# DataLoader\n",
        "def build_mt_data_loader(src_vocab, trg_vocab, df, src_name, trg_name, args, shuffle=True):\n",
        "  # Dataset 생성\n",
        "  dataset = MtDataset(src_vocab, trg_vocab, df, src_name, trg_name)\n",
        "  if 1 < args['n_gpu'] and shuffle:\n",
        "    sampler = DistributedSampler(dataset)\n",
        "    loader = DataLoader(dataset, batch_size=args['batch_size'], sampler=sampler, collate_fn=mt_collate_fn)\n",
        "  else:\n",
        "    sampler = None\n",
        "    loader = DataLoader(dataset, batch_size=args['batch_size'], sampler=sampler, shuffle=shuffle, collate_fn=mt_collate_fn)\n",
        "\n",
        "  return loader, sampler"
      ]
    },
    {
      "cell_type": "code",
      "execution_count": null,
      "metadata": {
        "id": "h__Gwxos5t1o"
      },
      "outputs": [],
      "source": [
        "tmp_config = {\n",
        "    \"n_gpu\": 1, #tmp\n",
        "    \"batch_size\": 256,\n",
        "    \"n_enc_vocab\": 8000, # tmp\n",
        "    \"n_dec_vocab\": 8000, # tmp\n",
        "    \"n_enc_seq\": 80, # tmp\n",
        "    \"d_model\": 512,\n",
        "    \"d_ff\": 2048,\n",
        "    \"h\": 8,\n",
        "    \"d_h\": 64,\n",
        "    \"dropout\": 0.1,\n",
        "}"
      ]
    },
    {
      "cell_type": "code",
      "execution_count": null,
      "metadata": {
        "id": "Iv5AeRwVONjs"
      },
      "outputs": [],
      "source": [
        "args = {\n",
        "    'n_gpu': tmp_config['n_gpu'],\n",
        "    'batch_size': tmp_config['batch_size'],\n",
        "}\n",
        "\n",
        "loader, sampler = build_mt_data_loader(en_vocab, de_vocab, train_df, 'en', 'de', args)"
      ]
    },
    {
      "cell_type": "code",
      "execution_count": null,
      "metadata": {
        "id": "zrWPcckqTvwW"
      },
      "outputs": [],
      "source": [
        "# Sinusoidal position representations\n",
        "def get_sinusoidal(n_seq, d_model):\n",
        "  '''\n",
        "  Args:\n",
        "      n_seq: sequence 길이 (=한 문장 내 토큰 개수)\n",
        "      d_model: (=512)\n",
        "  '''\n",
        "  def cal_angle(i_seq, i_dmodel):\n",
        "    return i_seq / np.power(10000, 2 * (i_dmodel // 2) / d_model)\n",
        "\n",
        "  def get_pos_enc(i_seq):\n",
        "    return [cal_angle(i_seq, i_dmodel) for i_dmodel in range(d_model)]\n",
        "\n",
        "  pos_enc_table = np.array([get_pos_enc(i_seq) for i_seq in range(n_seq)])\n",
        "  pos_enc_table[:, 0::2] = np.sin(pos_enc_table[:, 0::2]) # even idx\n",
        "  pos_enc_table[:, 1::2] = np.cos(pos_enc_table[:, 1::2]) # odd idx\n",
        "\n",
        "  return pos_enc_table"
      ]
    },
    {
      "cell_type": "code",
      "execution_count": null,
      "metadata": {
        "id": "mncRBQu588gX"
      },
      "outputs": [],
      "source": [
        "class FFN(nn.Module):\n",
        "  def __init__(self, config):\n",
        "    super().__init__()\n",
        "    self.config = config\n",
        "\n",
        "    self.conv1 = nn.Conv1d(in_channels=self.config[\"d_model\"], out_channels=self.config[\"d_ff\"], kernel_size=1)\n",
        "    self.conv2 = nn.Conv1d(in_channels=self.config[\"d_ff\"], out_channels=self.config[\"d_model\"], kernel_size=1)\n",
        "    self.active = F.relu\n",
        "    self.dropout = nn.Dropout(self.config[\"dropout\"])\n",
        "\n",
        "  # inputs: (batch_size, n_seq, d_model)\n",
        "  def forward(self, inputs):\n",
        "    # (batch_size, n_seq, d_model) -> (batch_size, d_model, n_seq) -> (batch_size, d_ff, n_seq)\n",
        "    output = self.active(self.conv1(inputs.transpose(1,2)))\n",
        "    # (batch_size, d_ff, n_seq) -> (batch_size, d_model, n_seq) -> (batch_size, n_seq, d_model)\n",
        "    output = self.conv2(output).transpose(1,2)\n",
        "    output = self.dropout(output)\n",
        "    # output: (batch_size, n_seq, d_model)\n",
        "    return output"
      ]
    },
    {
      "cell_type": "code",
      "source": [
        "# attention pad mask\n",
        "def get_attn_pad_mask(query, key, i_pad):\n",
        "  '''\n",
        "  Args:\n",
        "      query: query(Q) (batch_size, 문장 내 토큰 개수)\n",
        "      key: key(K) (batch_size, 문장 내 토큰 개수)\n",
        "      * 전처리 했으므로 배치 내 토큰 개수 동일\n",
        "      i_pad: padding 인덱스 (=0)\n",
        "  '''\n",
        "  batch_size, len_q = query.size()\n",
        "  batch_size, len_k = key.size()\n",
        "  # (batch_size, len_q, len_k)\n",
        "  mask = key.data.eq(i_pad).unsqueeze(1).expand(batch_size, len_q, len_k)\n",
        "  return mask\n",
        "\n",
        "\n",
        "# attention decoder mask\n",
        "def get_attn_decoder_mask(seq):\n",
        "  '''\n",
        "  Args:\n",
        "      seq: (batch_size, 문장 내 토큰 개수)\n",
        "  '''\n",
        "  mask = torch.ones_like(seq).unsqueeze(-1).expand(seq.size(0), seq.size(1), seq.size(1))\n",
        "  # (batch_size, len_seq, len_seq)\n",
        "  mask = mask.triu(diagonal=1)\n",
        "  return mask"
      ],
      "metadata": {
        "id": "m3b8F0ZM8JnF"
      },
      "execution_count": null,
      "outputs": []
    },
    {
      "cell_type": "code",
      "source": [
        "def returnExampleBatch():\n",
        "  cnt = 0\n",
        "  for [enc, dec] in loader:\n",
        "   if (cnt < 1):\n",
        "      return enc, dec\n",
        "   else:\n",
        "      break\n",
        "\n",
        "example_q, example_k = returnExampleBatch()"
      ],
      "metadata": {
        "id": "hQNycKtMp8Tb"
      },
      "execution_count": null,
      "outputs": []
    },
    {
      "cell_type": "code",
      "source": [
        "example_q"
      ],
      "metadata": {
        "colab": {
          "base_uri": "https://localhost:8080/"
        },
        "id": "wALDaD_WqcmJ",
        "outputId": "0b689b5e-e8ec-4b2b-bb93-f2cd480cf15e"
      },
      "execution_count": null,
      "outputs": [
        {
          "output_type": "execute_result",
          "data": {
            "text/plain": [
              "tensor([[  35,  732,  222,  ...,    0,    0,    0],\n",
              "        [ 570,   47,  113,  ...,    0,    0,    0],\n",
              "        [ 348,  106, 2127,  ...,    0,    0,    0],\n",
              "        ...,\n",
              "        [ 126,   78,   54,  ...,    0,    0,    0],\n",
              "        [ 126,   35, 1837,  ...,    0,    0,    0],\n",
              "        [1573,   31,   60,  ...,    0,    0,    0]])"
            ]
          },
          "metadata": {},
          "execution_count": 13
        }
      ]
    },
    {
      "cell_type": "code",
      "source": [
        "example_k"
      ],
      "metadata": {
        "colab": {
          "base_uri": "https://localhost:8080/"
        },
        "id": "feLSGqZxqeZE",
        "outputId": "c86ac3af-ace2-4099-f7e6-729639b8119b"
      },
      "execution_count": null,
      "outputs": [
        {
          "output_type": "execute_result",
          "data": {
            "text/plain": [
              "tensor([[ 145, 1779,  445,  ...,    0,    0,    0],\n",
              "        [ 360,   95,  452,  ...,    0,    0,    0],\n",
              "        [  95, 3851,  933,  ...,    0,    0,    0],\n",
              "        ...,\n",
              "        [ 426,   36,  136,  ...,    0,    0,    0],\n",
              "        [ 118,   36, 3065,  ...,    0,    0,    0],\n",
              "        [ 265, 1186,  651,  ...,    0,    0,    0]])"
            ]
          },
          "metadata": {},
          "execution_count": 14
        }
      ]
    },
    {
      "cell_type": "code",
      "source": [
        "example_pad_mask = get_attn_pad_mask(example_q, example_k, 0)"
      ],
      "metadata": {
        "id": "qnKDkO0Tqf_a"
      },
      "execution_count": null,
      "outputs": []
    },
    {
      "cell_type": "code",
      "source": [
        "example_pad_mask"
      ],
      "metadata": {
        "colab": {
          "base_uri": "https://localhost:8080/"
        },
        "id": "yc_BIX-lqxMo",
        "outputId": "1c709a8c-50e1-4cb3-faf1-88b91e40fab5"
      },
      "execution_count": null,
      "outputs": [
        {
          "output_type": "execute_result",
          "data": {
            "text/plain": [
              "tensor([[[False, False, False,  ...,  True,  True,  True],\n",
              "         [False, False, False,  ...,  True,  True,  True],\n",
              "         [False, False, False,  ...,  True,  True,  True],\n",
              "         ...,\n",
              "         [False, False, False,  ...,  True,  True,  True],\n",
              "         [False, False, False,  ...,  True,  True,  True],\n",
              "         [False, False, False,  ...,  True,  True,  True]],\n",
              "\n",
              "        [[False, False, False,  ...,  True,  True,  True],\n",
              "         [False, False, False,  ...,  True,  True,  True],\n",
              "         [False, False, False,  ...,  True,  True,  True],\n",
              "         ...,\n",
              "         [False, False, False,  ...,  True,  True,  True],\n",
              "         [False, False, False,  ...,  True,  True,  True],\n",
              "         [False, False, False,  ...,  True,  True,  True]],\n",
              "\n",
              "        [[False, False, False,  ...,  True,  True,  True],\n",
              "         [False, False, False,  ...,  True,  True,  True],\n",
              "         [False, False, False,  ...,  True,  True,  True],\n",
              "         ...,\n",
              "         [False, False, False,  ...,  True,  True,  True],\n",
              "         [False, False, False,  ...,  True,  True,  True],\n",
              "         [False, False, False,  ...,  True,  True,  True]],\n",
              "\n",
              "        ...,\n",
              "\n",
              "        [[False, False, False,  ...,  True,  True,  True],\n",
              "         [False, False, False,  ...,  True,  True,  True],\n",
              "         [False, False, False,  ...,  True,  True,  True],\n",
              "         ...,\n",
              "         [False, False, False,  ...,  True,  True,  True],\n",
              "         [False, False, False,  ...,  True,  True,  True],\n",
              "         [False, False, False,  ...,  True,  True,  True]],\n",
              "\n",
              "        [[False, False, False,  ...,  True,  True,  True],\n",
              "         [False, False, False,  ...,  True,  True,  True],\n",
              "         [False, False, False,  ...,  True,  True,  True],\n",
              "         ...,\n",
              "         [False, False, False,  ...,  True,  True,  True],\n",
              "         [False, False, False,  ...,  True,  True,  True],\n",
              "         [False, False, False,  ...,  True,  True,  True]],\n",
              "\n",
              "        [[False, False, False,  ...,  True,  True,  True],\n",
              "         [False, False, False,  ...,  True,  True,  True],\n",
              "         [False, False, False,  ...,  True,  True,  True],\n",
              "         ...,\n",
              "         [False, False, False,  ...,  True,  True,  True],\n",
              "         [False, False, False,  ...,  True,  True,  True],\n",
              "         [False, False, False,  ...,  True,  True,  True]]])"
            ]
          },
          "metadata": {},
          "execution_count": 16
        }
      ]
    },
    {
      "cell_type": "code",
      "source": [
        "example_pad_mask.size()"
      ],
      "metadata": {
        "colab": {
          "base_uri": "https://localhost:8080/"
        },
        "id": "QRyeMxcJrE5V",
        "outputId": "fb6a623a-a32f-4d81-e546-cba2305f32b4"
      },
      "execution_count": null,
      "outputs": [
        {
          "output_type": "execute_result",
          "data": {
            "text/plain": [
              "torch.Size([256, 92, 100])"
            ]
          },
          "metadata": {},
          "execution_count": 17
        }
      ]
    },
    {
      "cell_type": "code",
      "source": [
        "example_decoder_mask = get_attn_decoder_mask(example_k)"
      ],
      "metadata": {
        "id": "ts3nGLScvVGl"
      },
      "execution_count": null,
      "outputs": []
    },
    {
      "cell_type": "code",
      "source": [
        "example_decoder_mask"
      ],
      "metadata": {
        "colab": {
          "base_uri": "https://localhost:8080/"
        },
        "id": "x8GoErYxw4g1",
        "outputId": "ce1f91d4-c451-4d96-ed0a-c3a331744ecb"
      },
      "execution_count": null,
      "outputs": [
        {
          "output_type": "execute_result",
          "data": {
            "text/plain": [
              "tensor([[[0, 1, 1,  ..., 1, 1, 1],\n",
              "         [0, 0, 1,  ..., 1, 1, 1],\n",
              "         [0, 0, 0,  ..., 1, 1, 1],\n",
              "         ...,\n",
              "         [0, 0, 0,  ..., 0, 1, 1],\n",
              "         [0, 0, 0,  ..., 0, 0, 1],\n",
              "         [0, 0, 0,  ..., 0, 0, 0]],\n",
              "\n",
              "        [[0, 1, 1,  ..., 1, 1, 1],\n",
              "         [0, 0, 1,  ..., 1, 1, 1],\n",
              "         [0, 0, 0,  ..., 1, 1, 1],\n",
              "         ...,\n",
              "         [0, 0, 0,  ..., 0, 1, 1],\n",
              "         [0, 0, 0,  ..., 0, 0, 1],\n",
              "         [0, 0, 0,  ..., 0, 0, 0]],\n",
              "\n",
              "        [[0, 1, 1,  ..., 1, 1, 1],\n",
              "         [0, 0, 1,  ..., 1, 1, 1],\n",
              "         [0, 0, 0,  ..., 1, 1, 1],\n",
              "         ...,\n",
              "         [0, 0, 0,  ..., 0, 1, 1],\n",
              "         [0, 0, 0,  ..., 0, 0, 1],\n",
              "         [0, 0, 0,  ..., 0, 0, 0]],\n",
              "\n",
              "        ...,\n",
              "\n",
              "        [[0, 1, 1,  ..., 1, 1, 1],\n",
              "         [0, 0, 1,  ..., 1, 1, 1],\n",
              "         [0, 0, 0,  ..., 1, 1, 1],\n",
              "         ...,\n",
              "         [0, 0, 0,  ..., 0, 1, 1],\n",
              "         [0, 0, 0,  ..., 0, 0, 1],\n",
              "         [0, 0, 0,  ..., 0, 0, 0]],\n",
              "\n",
              "        [[0, 1, 1,  ..., 1, 1, 1],\n",
              "         [0, 0, 1,  ..., 1, 1, 1],\n",
              "         [0, 0, 0,  ..., 1, 1, 1],\n",
              "         ...,\n",
              "         [0, 0, 0,  ..., 0, 1, 1],\n",
              "         [0, 0, 0,  ..., 0, 0, 1],\n",
              "         [0, 0, 0,  ..., 0, 0, 0]],\n",
              "\n",
              "        [[0, 1, 1,  ..., 1, 1, 1],\n",
              "         [0, 0, 1,  ..., 1, 1, 1],\n",
              "         [0, 0, 0,  ..., 1, 1, 1],\n",
              "         ...,\n",
              "         [0, 0, 0,  ..., 0, 1, 1],\n",
              "         [0, 0, 0,  ..., 0, 0, 1],\n",
              "         [0, 0, 0,  ..., 0, 0, 0]]])"
            ]
          },
          "metadata": {},
          "execution_count": 19
        }
      ]
    },
    {
      "cell_type": "code",
      "source": [
        "example_decoder_mask.size()"
      ],
      "metadata": {
        "colab": {
          "base_uri": "https://localhost:8080/"
        },
        "id": "yPTqj53Hw_gn",
        "outputId": "f94c21ff-1568-4846-f31e-f82ee731b11d"
      },
      "execution_count": null,
      "outputs": [
        {
          "output_type": "execute_result",
          "data": {
            "text/plain": [
              "torch.Size([256, 100, 100])"
            ]
          },
          "metadata": {},
          "execution_count": 20
        }
      ]
    },
    {
      "cell_type": "markdown",
      "source": [
        "![image.png](data:image/png;base64,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)"
      ],
      "metadata": {
        "id": "O6vwxEU2gcfl"
      }
    },
    {
      "cell_type": "markdown",
      "source": [
        "![image.png](data:image/png;base64,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)"
      ],
      "metadata": {
        "id": "u2ITT3z6J-5f"
      }
    },
    {
      "cell_type": "code",
      "source": [
        "class ScaledDotProductAttention(nn.Module):\n",
        "  def __init__(self, config):\n",
        "    super().__init__()\n",
        "    self.config = config\n",
        "    self.dropout = nn.Dropout(self.config[\"dropout\"])\n",
        "    self.scale = 1 / (self.config[\"d_h\"] ** 0.5)\n",
        "\n",
        "  def forward(self, Q, K, V, attn_mask):\n",
        "    '''\n",
        "    Args:\n",
        "        Q: (batch_size, h, len_q, d_h)\n",
        "        K: (batch_size, h, len_k, d_h)\n",
        "        V: (batch_size, h, len_v, d_h)\n",
        "        attn_mask: (batch_size, h, len_q, len_k)\n",
        "    '''\n",
        "    # (batch_size, h, len_q, len_k)\n",
        "    affinities = torch.matmul(Q, K.transpose(-1, -2)).mul_(self.scale)\n",
        "    affinities.masked_fill_(attn_mask, -1e9)\n",
        "    # (batch_size, h, len_q, len_k)\n",
        "    attn_weights = nn.Softmax(dim=-1)(affinities)\n",
        "    attn_weights = self.dropout(attn_weights)\n",
        "    # (batch_size, h, len_q, d_h)\n",
        "    output = torch.matmul(attn_weights, V)\n",
        "    # (batch_size, h, len_q, d_h), (batch_size, h, len_q, len_k)\n",
        "    return output, attn_weights"
      ],
      "metadata": {
        "id": "-SBy9QlNyTQa"
      },
      "execution_count": null,
      "outputs": []
    },
    {
      "cell_type": "code",
      "source": [
        "ffn = FFN(tmp_config)\n",
        "enc_emb = nn.Embedding(tmp_config[\"n_enc_vocab\"], tmp_config[\"d_model\"])\n",
        "\n",
        "example_q = enc_emb(example_q)\n",
        "example_k = enc_emb(example_k)"
      ],
      "metadata": {
        "id": "fFtiTpisWlUX"
      },
      "execution_count": null,
      "outputs": []
    },
    {
      "cell_type": "code",
      "source": [
        "example_q.size()"
      ],
      "metadata": {
        "colab": {
          "base_uri": "https://localhost:8080/"
        },
        "id": "7AnTMPFyXOQ9",
        "outputId": "79ae4d62-28d5-42a1-873e-7abc595dcda6"
      },
      "execution_count": null,
      "outputs": [
        {
          "output_type": "execute_result",
          "data": {
            "text/plain": [
              "torch.Size([256, 92, 512])"
            ]
          },
          "metadata": {},
          "execution_count": 23
        }
      ]
    },
    {
      "cell_type": "code",
      "source": [
        "example_k.size()"
      ],
      "metadata": {
        "colab": {
          "base_uri": "https://localhost:8080/"
        },
        "id": "pEqYeJbYXSO-",
        "outputId": "ea2386df-c3d2-41ed-a3f5-23a2fd280214"
      },
      "execution_count": null,
      "outputs": [
        {
          "output_type": "execute_result",
          "data": {
            "text/plain": [
              "torch.Size([256, 100, 512])"
            ]
          },
          "metadata": {},
          "execution_count": 24
        }
      ]
    },
    {
      "cell_type": "code",
      "source": [
        "# (d_model, h * d_h)\n",
        "example_w_q = nn.Linear(tmp_config[\"d_model\"], tmp_config[\"h\"] * tmp_config[\"d_h\"])\n",
        "\n",
        "# (batch_size, len_q, d_model) * (d_model, h * d_h) = (batch_size, len_q, h * d_h)\n",
        "example_q = example_w_q(example_q)\n",
        "\n",
        "# (batch_size, len_q, h * d_h) -> (batch_size, h, len_q, d_h)\n",
        "example_q = example_q.view(tmp_config[\"batch_size\"], -1, tmp_config[\"h\"], tmp_config[\"d_h\"]).transpose(1, 2)"
      ],
      "metadata": {
        "id": "_56RIVjbXVKs"
      },
      "execution_count": null,
      "outputs": []
    },
    {
      "cell_type": "code",
      "source": [
        "example_q.size()"
      ],
      "metadata": {
        "colab": {
          "base_uri": "https://localhost:8080/"
        },
        "id": "44oU6vBIaH3R",
        "outputId": "bc5b7a95-50ac-4204-df93-927c50618b13"
      },
      "execution_count": null,
      "outputs": [
        {
          "output_type": "execute_result",
          "data": {
            "text/plain": [
              "torch.Size([256, 8, 92, 64])"
            ]
          },
          "metadata": {},
          "execution_count": 26
        }
      ]
    },
    {
      "cell_type": "code",
      "source": [
        "example_pad_mask.size()"
      ],
      "metadata": {
        "colab": {
          "base_uri": "https://localhost:8080/"
        },
        "id": "jnqxhSzXaPji",
        "outputId": "2a3d630c-b1c1-4d3b-f95c-2083d84c178a"
      },
      "execution_count": null,
      "outputs": [
        {
          "output_type": "execute_result",
          "data": {
            "text/plain": [
              "torch.Size([256, 92, 100])"
            ]
          },
          "metadata": {},
          "execution_count": 27
        }
      ]
    },
    {
      "cell_type": "code",
      "source": [
        "# (batch_size, len_q, len_k) -> (batch_size, h, len_q, len_k)\n",
        "\n",
        "example_pad_mask = example_pad_mask.unsqueeze(1).repeat(1, tmp_config[\"h\"], 1, 1)"
      ],
      "metadata": {
        "id": "LF2IDn8OaXuH"
      },
      "execution_count": null,
      "outputs": []
    },
    {
      "cell_type": "code",
      "source": [
        "example_pad_mask.size()"
      ],
      "metadata": {
        "colab": {
          "base_uri": "https://localhost:8080/"
        },
        "id": "uNGucA42eDhH",
        "outputId": "9860bc38-c013-49ce-8bc9-8bf8a0382de2"
      },
      "execution_count": null,
      "outputs": [
        {
          "output_type": "execute_result",
          "data": {
            "text/plain": [
              "torch.Size([256, 8, 92, 100])"
            ]
          },
          "metadata": {},
          "execution_count": 29
        }
      ]
    },
    {
      "cell_type": "code",
      "source": [
        "example_w_k = nn.Linear(tmp_config[\"d_model\"], tmp_config[\"h\"] * tmp_config[\"d_h\"])\n",
        "example_w_v = nn.Linear(tmp_config[\"d_model\"], tmp_config[\"h\"] * tmp_config[\"d_h\"])\n",
        "\n",
        "example_k = example_w_k(example_k)\n",
        "example_v = example_w_v(example_k)\n",
        "\n",
        "example_k = example_k.view(tmp_config[\"batch_size\"], -1, tmp_config[\"h\"], tmp_config[\"d_h\"]).transpose(1, 2)\n",
        "example_v = example_v.view(tmp_config[\"batch_size\"], -1, tmp_config[\"h\"], tmp_config[\"d_h\"]).transpose(1, 2)"
      ],
      "metadata": {
        "id": "ZgOycZNoeGet"
      },
      "execution_count": null,
      "outputs": []
    },
    {
      "cell_type": "code",
      "source": [
        "example_k.size()"
      ],
      "metadata": {
        "colab": {
          "base_uri": "https://localhost:8080/"
        },
        "id": "YEx7Bjnde3aX",
        "outputId": "ae403900-81e1-4e52-de5d-95807b6db158"
      },
      "execution_count": null,
      "outputs": [
        {
          "output_type": "execute_result",
          "data": {
            "text/plain": [
              "torch.Size([256, 8, 100, 64])"
            ]
          },
          "metadata": {},
          "execution_count": 31
        }
      ]
    },
    {
      "cell_type": "code",
      "source": [
        "example_v.size()"
      ],
      "metadata": {
        "colab": {
          "base_uri": "https://localhost:8080/"
        },
        "id": "znXe22Wje5p2",
        "outputId": "f27bcf5f-44d0-4f34-9188-d846a301dfb6"
      },
      "execution_count": null,
      "outputs": [
        {
          "output_type": "execute_result",
          "data": {
            "text/plain": [
              "torch.Size([256, 8, 100, 64])"
            ]
          },
          "metadata": {},
          "execution_count": 32
        }
      ]
    },
    {
      "cell_type": "code",
      "source": [
        "example_scaled_dot_attn = ScaledDotProductAttention(tmp_config)\n",
        "\n",
        "example_output, example_attn_weights = example_scaled_dot_attn(example_q, example_k, example_v, example_pad_mask)"
      ],
      "metadata": {
        "id": "wsyeJavue8Jd"
      },
      "execution_count": null,
      "outputs": []
    },
    {
      "cell_type": "code",
      "source": [
        "example_output.size()"
      ],
      "metadata": {
        "colab": {
          "base_uri": "https://localhost:8080/"
        },
        "id": "Zcwqg0gGg1PI",
        "outputId": "2c3cfddf-7bf1-4583-eaf6-62f36b5c8fb2"
      },
      "execution_count": null,
      "outputs": [
        {
          "output_type": "execute_result",
          "data": {
            "text/plain": [
              "torch.Size([256, 8, 92, 64])"
            ]
          },
          "metadata": {},
          "execution_count": 35
        }
      ]
    },
    {
      "cell_type": "code",
      "source": [
        "example_attn_weights.size()"
      ],
      "metadata": {
        "colab": {
          "base_uri": "https://localhost:8080/"
        },
        "id": "05CdS1M2hDjn",
        "outputId": "1372696c-30f2-42e1-b387-22ea39d8d39b"
      },
      "execution_count": null,
      "outputs": [
        {
          "output_type": "execute_result",
          "data": {
            "text/plain": [
              "torch.Size([256, 8, 92, 100])"
            ]
          },
          "metadata": {},
          "execution_count": 36
        }
      ]
    },
    {
      "cell_type": "markdown",
      "source": [
        "![image.png](data:image/png;base64,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)"
      ],
      "metadata": {
        "id": "lZ8QT86JsWXL"
      }
    },
    {
      "cell_type": "markdown",
      "source": [
        "![image.png](data:image/png;base64,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)"
      ],
      "metadata": {
        "id": "DaOtm7FbszfY"
      }
    },
    {
      "cell_type": "code",
      "source": [
        "class MultiHeadAttention(nn.Module):\n",
        "  def __init__(self, config):\n",
        "    super().__init__()\n",
        "    self.config = config\n",
        "    self.W_Q = nn.Linear(self.config['d_model'], self.config['h'] * self.config['d_h'])\n",
        "    self.W_K = nn.Linear(self.config['d_model'], self.config['h'] * self.config['d_h'])\n",
        "    self.W_V = nn.Linear(self.config['d_model'], self.config['h'] * self.config['d_h'])\n",
        "    self.scaled_dot_attn = ScaledDotProductAttention(self.config)\n",
        "    self.linear = nn.Linear(self.config['h'] * self.config['d_h'], self.config['d_model'])\n",
        "    self.dropout = nn.Dropout(self.config['dropout'])\n",
        "\n",
        "  def forward(self, Q, K, V, attn_mask):\n",
        "    '''\n",
        "    Args:\n",
        "        Q: (batch_size, len_q, d_model)\n",
        "        K: (batch_size, len_q, d_model)\n",
        "        V: (batch_size, len_q, d_model)\n",
        "        attn_mask: (batch_size, len_q, len_k)\n",
        "    '''\n",
        "    # linearly project the queries, keys and values\n",
        "    # (batch_size, len_q, d_model) * (d_model, h * d_h) = (batch_size, len_q, h * d_h)\n",
        "    # -> (batch_size, len_q, h, d_h)\n",
        "    # -> (batch_size, h, len_q, d_h)\n",
        "    pjted_Q = self.W_Q(Q).view(self.config['batch_size'], -1, self.config['h'], self.config['d_h']).transpose(1,2)\n",
        "    pjted_K = self.W_K(K).view(self.config['batch_size'], -1, self.config['h'], self.config['d_h']).transpose(1,2)\n",
        "    pjted_V = self.W_V(V).view(self.config['batch_size'], -1, self.config['h'], self.config['d_h']).transpose(1,2)\n",
        "    # (batch_size, len_q, len_k) -> (batch_size, h, len_q, len_k)\n",
        "    attn_mask = attn_mask.unsqueeze(1).repeat(1, self.config['h'], 1, 1)\n",
        "    # scaled dot product attention\n",
        "    # (batch_size, h, len_q, d_h), (batch_size, h, len_q, len_k)\n",
        "    context, attn_weights = self.scaled_dot_attn(pjted_Q, pjted_K, pjted_V, attn_mask)\n",
        "    # concat\n",
        "    # (batch_size, h, len_q, d_h) -> (batch_size, len_q, h * d_h)\n",
        "    context= context.transpose(1, 2).contiguous().view(self.config['batch_size'], -1, self.config['h'] * self.config['d_h'])\n",
        "    # linear\n",
        "    # (batch_size, len_q, h * d_h) * (h * d_h, d_model)\n",
        "    # -> (batch_size, len_q, d_model)\n",
        "    output = self.linear(context)\n",
        "    output = self.dropout(output)\n",
        "    # (batch_size, len_q, d_model), (batch_size, h, len_q, len_k)\n",
        "    return output, attn_weights"
      ],
      "metadata": {
        "id": "GxeJTpaNpFLY"
      },
      "execution_count": null,
      "outputs": []
    },
    {
      "cell_type": "code",
      "source": [
        "def returnExampleBatch():\n",
        "  cnt = 0\n",
        "  for [enc, dec] in loader:\n",
        "   if (cnt < 1):\n",
        "      return enc, dec\n",
        "   else:\n",
        "      break\n",
        "\n",
        "example_q2, example_k2 = returnExampleBatch()\n",
        "\n",
        "example_pad_mask2 = get_attn_pad_mask(example_q2, example_k2, 0)\n",
        "\n",
        "enc_emb2 = nn.Embedding(tmp_config[\"n_enc_vocab\"], tmp_config[\"d_model\"])\n",
        "dec_emb2 = nn.Embedding(tmp_config[\"n_dec_vocab\"], tmp_config[\"d_model\"])\n",
        "\n",
        "example_q2 = enc_emb2(example_q2)\n",
        "example_k2 = dec_emb2(example_k2)"
      ],
      "metadata": {
        "id": "dK-yTtkI0hkS"
      },
      "execution_count": null,
      "outputs": []
    },
    {
      "cell_type": "code",
      "source": [
        "example_q2.size()"
      ],
      "metadata": {
        "colab": {
          "base_uri": "https://localhost:8080/"
        },
        "id": "SpGskmoW2vTH",
        "outputId": "522f6bcd-afd9-4aea-fb3a-ce0779f53d13"
      },
      "execution_count": null,
      "outputs": [
        {
          "output_type": "execute_result",
          "data": {
            "text/plain": [
              "torch.Size([256, 104, 512])"
            ]
          },
          "metadata": {},
          "execution_count": 49
        }
      ]
    },
    {
      "cell_type": "code",
      "source": [
        "example_k2.size()"
      ],
      "metadata": {
        "colab": {
          "base_uri": "https://localhost:8080/"
        },
        "id": "0NB3oC3C2xuj",
        "outputId": "503400ce-c35a-4a32-cad9-7754fc606834"
      },
      "execution_count": null,
      "outputs": [
        {
          "output_type": "execute_result",
          "data": {
            "text/plain": [
              "torch.Size([256, 112, 512])"
            ]
          },
          "metadata": {},
          "execution_count": 50
        }
      ]
    },
    {
      "cell_type": "code",
      "source": [
        "example_pad_mask2.size()"
      ],
      "metadata": {
        "colab": {
          "base_uri": "https://localhost:8080/"
        },
        "id": "f6_Oxqck3Pkx",
        "outputId": "276bb608-b3d0-40f6-d9bb-8892e7bd4c3d"
      },
      "execution_count": null,
      "outputs": [
        {
          "output_type": "execute_result",
          "data": {
            "text/plain": [
              "torch.Size([256, 104, 112])"
            ]
          },
          "metadata": {},
          "execution_count": 51
        }
      ]
    },
    {
      "cell_type": "code",
      "source": [
        "example_enc_dec_attn = MultiHeadAttention(tmp_config)\n",
        "\n",
        "output, attn_weights = example_enc_dec_attn(example_q2, example_k2, example_k2, example_pad_mask2)"
      ],
      "metadata": {
        "id": "kfsUfgp_2c-8"
      },
      "execution_count": null,
      "outputs": []
    },
    {
      "cell_type": "code",
      "source": [
        "output.size()"
      ],
      "metadata": {
        "colab": {
          "base_uri": "https://localhost:8080/"
        },
        "id": "Fek3A7rH4Nzh",
        "outputId": "455435df-ab14-4021-aeed-d218ee73efda"
      },
      "execution_count": null,
      "outputs": [
        {
          "output_type": "execute_result",
          "data": {
            "text/plain": [
              "torch.Size([256, 104, 512])"
            ]
          },
          "metadata": {},
          "execution_count": 58
        }
      ]
    },
    {
      "cell_type": "code",
      "source": [
        "attn_weights.size()"
      ],
      "metadata": {
        "colab": {
          "base_uri": "https://localhost:8080/"
        },
        "id": "XCjKB-We4SQS",
        "outputId": "addb9246-6a69-4a54-faed-3864d0ab4e09"
      },
      "execution_count": null,
      "outputs": [
        {
          "output_type": "execute_result",
          "data": {
            "text/plain": [
              "torch.Size([256, 8, 104, 112])"
            ]
          },
          "metadata": {},
          "execution_count": 59
        }
      ]
    },
    {
      "cell_type": "code",
      "execution_count": null,
      "metadata": {
        "id": "78fzO1qfdVmg"
      },
      "outputs": [],
      "source": [
        "# encoder\n",
        "class Encoder(nn.Module):\n",
        "  def __init__(self, config):\n",
        "    super().__init__()\n",
        "    self.config = config\n",
        "\n",
        "    self.enc_emb = nn.Embedding(self.config[\"n_enc_vocab\"], self.config[\"d_model\"])\n",
        "    pos_enc_table = torch.FloatTensor(get_sinusoidal(self.config[\"n_enc_seq\"], self.config[\"d_model\"]))\n",
        "    self.pos_emb = nn.Embedding.from_pretrained(pos_enc_table, freeze=True)\n",
        "\n",
        "    # to do: EncoderLayer\n",
        "\n",
        "  # to do: forward"
      ]
    }
  ],
  "metadata": {
    "colab": {
      "provenance": []
    },
    "kernelspec": {
      "display_name": "Python 3",
      "name": "python3"
    },
    "language_info": {
      "name": "python"
    }
  },
  "nbformat": 4,
  "nbformat_minor": 0
}